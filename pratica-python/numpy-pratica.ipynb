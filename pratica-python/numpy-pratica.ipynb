{
 "cells": [
  {
   "cell_type": "code",
   "execution_count": 1,
   "metadata": {},
   "outputs": [],
   "source": [
    "import numpy as np"
   ]
  },
  {
   "cell_type": "code",
   "execution_count": 2,
   "metadata": {},
   "outputs": [
    {
     "name": "stdout",
     "output_type": "stream",
     "text": [
      "[12 34 26 18 10]\n",
      "<class 'numpy.ndarray'>\n"
     ]
    }
   ],
   "source": [
    "# Criando uma matriz unidimensional usando numpy, exibindo-a e imprimindo seu tipo\n",
    "mt = np.array([12, 34, 26, 18, 10])\n",
    "print(mt)\n",
    "print(type(mt))"
   ]
  },
  {
   "cell_type": "code",
   "execution_count": null,
   "metadata": {},
   "outputs": [],
   "source": [
    "# Criando uma matriz unidimensional usando numpy, exibindo-a e imprimindo seu tipo\n",
    "mt = np.array([12, 34, 26, 18, 10])\n",
    "print(mt)\n",
    "print(type(mt))"
   ]
  },
  {
   "cell_type": "code",
   "execution_count": null,
   "metadata": {},
   "outputs": [],
   "source": [
    "# Fazendo a conversão de tipos com os arrays\n",
    "mtnew = np.array([1.5, 3.9, 77.7, -5.6, 18.98])\n",
    "print(mtnew)\n",
    "# Quando transformamos de float para int os valores são truncados\n",
    "mtnewint = mtnew.astype(np.int32)\n",
    "print(mtnewint)"
   ]
  },
  {
   "cell_type": "code",
   "execution_count": null,
   "metadata": {},
   "outputs": [],
   "source": [
    "# Podemos fazer o inverso também\n",
    "mt5 = np.array([1, 2, 3, 4])\n",
    "print(mt5)\n",
    "mt6 = mt5.astype(float)\n",
    "print(mt6)"
   ]
  },
  {
   "cell_type": "code",
   "execution_count": null,
   "metadata": {},
   "outputs": [],
   "source": [
    "# Matrizes com mais de uma dimensão\n",
    "# Bidimensional\n",
    "mt7 = np.array([[7, 9, 11], [25, 8, 64], [2, 3, 6]])\n",
    "print(mt7)\n",
    "\n",
    "# Criando arrays vazios tipificados\n",
    "# empty significa que não são inicializados, não que são vazios\n",
    "vazio = np.empty([3, 2], dtype = int)\n",
    "print(vazio)\n",
    "print(\"-----\")"
   ]
  },
  {
   "cell_type": "code",
   "execution_count": null,
   "metadata": {},
   "outputs": [],
   "source": [
    "# Criando uma matriz 4x3 com valores zero\n",
    "zeros = np.zeros([4,3])\n",
    "print(zeros)\n",
    "print(\"-----\")"
   ]
  },
  {
   "cell_type": "code",
   "execution_count": null,
   "metadata": {},
   "outputs": [],
   "source": [
    "# Com valores iguais a um\n",
    "um = np.ones([2,2])\n",
    "print(um)\n",
    "print(\"-----\")"
   ]
  },
  {
   "cell_type": "code",
   "execution_count": null,
   "metadata": {},
   "outputs": [],
   "source": [
    "# Cria matriz quadrada com diagonal peincipal com valores um e os outros valores zero (Matriz Identidade)\n",
    "identidade = np.eye(3)\n",
    "print(identidade)"
   ]
  },
  {
   "cell_type": "code",
   "execution_count": null,
   "metadata": {},
   "outputs": [],
   "source": [
    "# Valores aleatórios entre zero e um\n",
    "random = np.random.random((5))\n",
    "print(random)\n",
    "print(\"-----\")\n",
    "# Valores aleatórios distr. normal contendo negativos\n",
    "random2 = np.random.randn((5))\n",
    "print(random2)\n",
    "print(\"-----\")\n",
    "# Valores aleatórios numa matriz 3x4\n",
    "random3 = (10*np.random.random((3,4)))\n",
    "print(random3)\n",
    "print(\"-----\")"
   ]
  },
  {
   "cell_type": "code",
   "execution_count": null,
   "metadata": {},
   "outputs": [],
   "source": [
    "# Outra forma de gerar aleatórios é usando sementes\n",
    "gnr = np.random.default_rng(1)\n",
    "random4 = gnr.random(3)\n",
    "print(random4)\n",
    "print(\"-----\")"
   ]
  },
  {
   "cell_type": "code",
   "execution_count": null,
   "metadata": {},
   "outputs": [],
   "source": [
    "# Gerando inteiros\n",
    "random5 = gnr.integers(10, size=(3, 4))\n",
    "print(random5)\n",
    "print(\"-----\")"
   ]
  },
  {
   "cell_type": "code",
   "execution_count": null,
   "metadata": {},
   "outputs": [],
   "source": [
    "# Função 'unique' remove repetições\n",
    "j = np.array([11, 12, 13, 14, 15, 16, 17, 12, 13, 11, 18, 19, 20])\n",
    "j = np.unique(j)\n",
    "print(j)\n",
    "print(\"-----\")"
   ]
  },
  {
   "cell_type": "code",
   "execution_count": null,
   "metadata": {},
   "outputs": [],
   "source": [
    "# Funções específicas\n",
    "# Cria a matriz bidimensional k\n",
    "k = np.array([[77, 99, 11], [8, 10, 5], [4, 3, 1]])\n",
    "\n",
    "# Exibe a matriz k\n",
    "print(k)\n",
    "print(\"-----\")\n",
    "# Imprime um elemento específico da matriz\n",
    "print(k[0][1])\n",
    "# Imprime o tamanho das dimensões da matriz k\n",
    "print(k.shape)"
   ]
  },
  {
   "cell_type": "code",
   "execution_count": null,
   "metadata": {},
   "outputs": [],
   "source": [
    "# Funções Matemáticas\n",
    "# Mostra o maior valor da matriz k\n",
    "print(k.max())\n",
    "# Mostra o menor valor da matriz k\n",
    "print(k.min())\n",
    "# Mostra a soma dos valores de k\n",
    "print(k.sum())\n",
    "# Mostra a média dos valores de k\n",
    "print(k.mean())\n",
    "# Mostra o desvio padrão (standard deviation) dos valores da matriz k\n",
    "print(k.std())"
   ]
  },
  {
   "cell_type": "code",
   "execution_count": null,
   "metadata": {},
   "outputs": [],
   "source": [
    "# Funções universais, aplicadas a todos os elementos\n",
    "# Mostra o valor da raiz quadrada de todos os elementos\n",
    "k1 = np.array([[10, 9, 16], [36, 45, 25], [72, 4, 1]])\n",
    "print(np.sqrt(k1))\n",
    "# Mostra o valor do exponencial de todos os elementos\n",
    "print(np.exp(k1))"
   ]
  },
  {
   "cell_type": "code",
   "execution_count": null,
   "metadata": {},
   "outputs": [],
   "source": [
    "# Extração de elementos\n",
    "m = np.array([1, 2, 3, 4, 5, 6, 7, 8, 9])\n",
    "# Mostra o elemento na segunda posição\n",
    "print(m[1])\n",
    "print(\"-----\")\n",
    "# Mostra o array dois elementos a partir da posição 0\n",
    "print(m[0:2])\n",
    "print(\"-----\")\n",
    "# Mostra o array a partir da antepenúltima posição até o final\n",
    "print(m[-3:])"
   ]
  },
  {
   "cell_type": "code",
   "execution_count": null,
   "metadata": {},
   "outputs": [],
   "source": [
    "# Extração de linhas e colunas\n",
    "matrix = np.array([[1, 2], [3, 4]])\n",
    "print(matrix)\n",
    "print(\"-----\")\n",
    "# Armazenando a primeira linha, todas as colunas\n",
    "matrix_linha_1 = matrix[0, :]\n",
    "print(matrix_linha_1)\n",
    "print(\"-----\")\n",
    "# Segunda linha\n",
    "matrix_linha_2 = matrix[1, :]\n",
    "print(matrix_linha_2)\n",
    "print(\"-----\")\n",
    "# Todas as linhas, primeira coluna\n",
    "matrix_coluna_1 = matrix[:, 0]\n",
    "print(matrix_coluna_1)\n",
    "print(\"-----\")\n",
    "# Segunda coluna\n",
    "matrix_coluna_2 = matrix[:, 1]\n",
    "print(matrix_coluna_2)\n",
    "print(\"-----\")"
   ]
  },
  {
   "cell_type": "code",
   "execution_count": null,
   "metadata": {},
   "outputs": [],
   "source": [
    "# Adição e Multiplicação de matrizes\n",
    "matriz1 = gnr.random(3)\n",
    "matriz2 = gnr.random(1)\n",
    "adicao = matriz1 + matriz2\n",
    "print(adicao)\n",
    "print(\"-----\")\n",
    "mult = matriz1 * matriz2\n",
    "print(mult)\n",
    "print(\"-----\")\n",
    "# Poderia também...\n",
    "print(matriz1*matriz2)\n",
    "print(\"-----\")"
   ]
  },
  {
   "cell_type": "code",
   "execution_count": null,
   "metadata": {},
   "outputs": [],
   "source": [
    "# Transposição, rearranja um conjunto de 15 elementos de 0 a 14 em 3 linhas e 5 colunas\n",
    "matriz3 = np.arange(15).reshape((3,5))\n",
    "print(matriz3)\n",
    "print(\"-----\")\n",
    "matriz4 = matriz3.T\n",
    "print(matriz4)\n",
    "print(\"-----\")"
   ]
  },
  {
   "cell_type": "code",
   "execution_count": null,
   "metadata": {},
   "outputs": [],
   "source": [
    "# Expressões lógicas\n",
    "# Usando where\n",
    "# Criando matriz com valores aleatórios positivos e negativos\n",
    "matriz5 = np.random.randn(4, 4)\n",
    "print(matriz5)\n",
    "print(\"-----\")\n",
    "# Criando matriz com valores booleanos baseado no array 'matriz5'\n",
    "matriz6 = (matriz5 > 0)\n",
    "print(matriz6)\n",
    "print(\"-----\")\n",
    "# Criando matriz com valores -1 e 1 baseado nos valores do array 'matriz6'\n",
    "matriz7 = np.where(matriz6 > 1, 1, -1)\n",
    "print(matriz7)\n",
    "print(\"-----\")"
   ]
  }
 ],
 "metadata": {
  "kernelspec": {
   "display_name": "Python 3",
   "language": "python",
   "name": "python3"
  },
  "language_info": {
   "codemirror_mode": {
    "name": "ipython",
    "version": 3
   },
   "file_extension": ".py",
   "mimetype": "text/x-python",
   "name": "python",
   "nbconvert_exporter": "python",
   "pygments_lexer": "ipython3",
   "version": "3.11.4"
  },
  "orig_nbformat": 4
 },
 "nbformat": 4,
 "nbformat_minor": 2
}
