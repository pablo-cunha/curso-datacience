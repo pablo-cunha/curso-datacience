{
 "cells": [
  {
   "cell_type": "code",
   "execution_count": null,
   "metadata": {},
   "outputs": [],
   "source": [
    "# 1. Faça uma função chamada 'amplitude'. A função deve receber uma lista\n",
    "#   E imprimir a amplitude.\n",
    "# 2. Faça uma função que receba uma string e imprima esta string na forma vertical\n",
    "# 3. Crie uma função que leia o peso de uma carga em números inteiros. Se o peso for até 10 kg, informe\n",
    "#   que o valor será de R$ 50,00. Entre 11 e 20 kg, o valor será de R$ 80,00. Se for maior que 20 kg,\n",
    "#   informe que o transporte não é aceito. Teste vários pesos."
   ]
  },
  {
   "cell_type": "code",
   "execution_count": 1,
   "metadata": {},
   "outputs": [
    {
     "name": "stdout",
     "output_type": "stream",
     "text": [
      "36\n"
     ]
    }
   ],
   "source": [
    "# 1.\n",
    "import numpy as np\n",
    "\n",
    "def amplitude(lista):\n",
    "    maior = lista.max()\n",
    "    menor = lista.min()\n",
    "\n",
    "    return maior-menor\n",
    "\n",
    "array = np.array([15,11,24,8,25,44])\n",
    "amp = amplitude(array)\n",
    "print(amp)"
   ]
  },
  {
   "cell_type": "code",
   "execution_count": null,
   "metadata": {},
   "outputs": [],
   "source": [
    "# 2.\n",
    "def letraPorLetra(string):\n",
    "    for char in string:\n",
    "        print(char)\n",
    "\n",
    "letraPorLetra(\"teste\")"
   ]
  },
  {
   "cell_type": "code",
   "execution_count": null,
   "metadata": {},
   "outputs": [],
   "source": [
    "# 3.\n",
    "def valorTransporte(peso):\n",
    "    if peso <= 10:\n",
    "        print(\"O valor do transporte é de R$ 50,00.\")\n",
    "    elif peso <= 20:\n",
    "        print(\"O valor do transporte será de R$ 80,00.\")\n",
    "    else:\n",
    "        print(\"O transporte nao será aceito.\")\n",
    "\n",
    "valorTransporte(9)\n",
    "valorTransporte(10.6)\n",
    "valorTransporte(20)\n",
    "valorTransporte(22)"
   ]
  }
 ],
 "metadata": {
  "kernelspec": {
   "display_name": "Python 3",
   "language": "python",
   "name": "python3"
  },
  "language_info": {
   "codemirror_mode": {
    "name": "ipython",
    "version": 3
   },
   "file_extension": ".py",
   "mimetype": "text/x-python",
   "name": "python",
   "nbconvert_exporter": "python",
   "pygments_lexer": "ipython3",
   "version": "3.11.4"
  },
  "orig_nbformat": 4
 },
 "nbformat": 4,
 "nbformat_minor": 2
}
