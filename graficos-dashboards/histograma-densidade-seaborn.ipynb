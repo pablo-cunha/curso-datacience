{
 "cells": [
  {
   "cell_type": "code",
   "execution_count": null,
   "metadata": {},
   "outputs": [],
   "source": [
    "import pandas as pd\n",
    "import seaborn as srn\n",
    "import matplotlib.pyplot as plt"
   ]
  },
  {
   "cell_type": "code",
   "execution_count": null,
   "metadata": {},
   "outputs": [],
   "source": [
    "# Carregando base de dados\n",
    "base = pd.read_csv('./dados/trees.csv')\n",
    "base.head()"
   ]
  },
  {
   "cell_type": "code",
   "execution_count": null,
   "metadata": {},
   "outputs": [],
   "source": [
    "# Histograma com 10 divisões (bins) e com gráfico de densidade (kernel density - suavização)\n",
    "# stat: count, frequency, probability, percent, density\n",
    "srn.histplot(base.Volume, color = \"blue\", kde = True, stat=\"density\", bins = 10).set(title = \"Volume\")"
   ]
  },
  {
   "cell_type": "code",
   "execution_count": null,
   "metadata": {},
   "outputs": [],
   "source": [
    "# Carregando outra base de dados\n",
    "base2 = pd.read_csv(\"./dados/chicken.csv\")\n",
    "base2.head()"
   ]
  },
  {
   "cell_type": "code",
   "execution_count": null,
   "metadata": {},
   "outputs": [],
   "source": [
    "# Criando novo dataframe agrupando o atributo 'feed'\n",
    "agrupado = base2.groupby(['feed'])['weight'].sum()\n",
    "agrupado"
   ]
  },
  {
   "cell_type": "code",
   "execution_count": null,
   "metadata": {},
   "outputs": [],
   "source": [
    "# Novo dataframe somente para testar os filtros do pandas\n",
    "teste = base2.loc[base2['feed'] == 'horsebean']\n",
    "teste"
   ]
  },
  {
   "cell_type": "code",
   "execution_count": null,
   "metadata": {},
   "outputs": [],
   "source": [
    "# Histograma considerando somente o valor 'horsebean'\n",
    "# Apenas o gráficco de densidade neste caso\n",
    "srn.kdeplot(base2.loc[base2['feed'] == 'horsebean'].weight).set(title = 'horsebean')"
   ]
  },
  {
   "cell_type": "code",
   "execution_count": null,
   "metadata": {},
   "outputs": [],
   "source": [
    "# Histograma considerando somente o valor 'casein'\n",
    "srn.histplot(base2.loc[base2['feed'] == 'casein'].weight, kde = True).set(title = 'casein')"
   ]
  },
  {
   "cell_type": "code",
   "execution_count": null,
   "metadata": {},
   "outputs": [],
   "source": [
    "# Histograma considerando somente o valor 'linseed'\n",
    "srn.histplot(base2.loc[base2['feed'] == 'linseed'].weight, kde = True).set(title = 'linseed')"
   ]
  },
  {
   "cell_type": "code",
   "execution_count": null,
   "metadata": {},
   "outputs": [],
   "source": [
    "# Histograma considerando somente o valor 'meatmeal'\n",
    "srn.histplot(base2.loc[base2['feed'] == 'meatmeal'].weight, kde = True).set(title = 'meatmeal')"
   ]
  },
  {
   "cell_type": "code",
   "execution_count": null,
   "metadata": {},
   "outputs": [],
   "source": [
    "# Histograma considerando somente o valor 'soybean'\n",
    "srn.histplot(base2.loc[base2['feed'] == 'soybean'].weight, kde = True).set(title = 'soybean')"
   ]
  },
  {
   "cell_type": "code",
   "execution_count": null,
   "metadata": {},
   "outputs": [],
   "source": [
    "# Histograma considerando somente o valor 'sunflower'\n",
    "srn.histplot(base2.loc[base2['feed'] == 'sunflower'].weight, kde = True).set(title = 'sunflower')"
   ]
  },
  {
   "cell_type": "code",
   "execution_count": null,
   "metadata": {},
   "outputs": [],
   "source": [
    "# Impressão em gráfico 3 x 2 - 3 linhas 2 colunas\n",
    "plt.figure()\n",
    "plt.subplot(3,2,1)\n",
    "srn.histplot(base2.loc[base2['feed'] == 'horsebean'].weight, kde = True).set(title = 'horsebean')\n",
    "plt.subplot(3,2,2)\n",
    "srn.histplot(base2.loc[base2['feed'] == 'casein'].weight, kde = True).set(title = 'casein')\n",
    "plt.subplot(3,2,3)\n",
    "srn.histplot(base2.loc[base2['feed'] == 'linseed'].weight, kde = True).set(title = 'linseed')\n",
    "plt.subplot(3,2,4)\n",
    "srn.histplot(base2.loc[base2['feed'] == 'meatmeal'].weight, kde = True).set(title = 'meatmeal')\n",
    "plt.subplot(3,2,5)\n",
    "srn.histplot(base2.loc[base2['feed'] == 'soybean'].weight, kde = True).set(title = 'soybean')\n",
    "plt.subplot(3,2,6)\n",
    "srn.histplot(base2.loc[base2['feed'] == 'sunflower'].weight, kde = True).set(title = 'sunflower')\n",
    "# Ajusta o layout para não haver sobreposição\n",
    "plt.tight_layout()"
   ]
  }
 ],
 "metadata": {
  "kernelspec": {
   "display_name": "Python 3",
   "language": "python",
   "name": "python3"
  },
  "language_info": {
   "codemirror_mode": {
    "name": "ipython",
    "version": 3
   },
   "file_extension": ".py",
   "mimetype": "text/x-python",
   "name": "python",
   "nbconvert_exporter": "python",
   "pygments_lexer": "ipython3",
   "version": "3.11.4"
  },
  "orig_nbformat": 4
 },
 "nbformat": 4,
 "nbformat_minor": 2
}
